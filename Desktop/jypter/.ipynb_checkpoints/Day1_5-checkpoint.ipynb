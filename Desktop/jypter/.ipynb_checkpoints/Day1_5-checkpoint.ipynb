{
 "cells": [
  {
   "cell_type": "code",
   "execution_count": 2,
   "id": "2e53dad6",
   "metadata": {},
   "outputs": [],
   "source": [
    "# Pandas \n",
    "# Series and DataFrame "
   ]
  },
  {
   "cell_type": "code",
   "execution_count": 3,
   "id": "3ce8609a",
   "metadata": {},
   "outputs": [],
   "source": [
    "import numpy as np\n",
    "import pandas as pd"
   ]
  },
  {
   "cell_type": "code",
   "execution_count": 5,
   "id": "aa95e444",
   "metadata": {},
   "outputs": [],
   "source": [
    "def function1():\n",
    "    l1 = [10,20,30,40,50]\n",
    "    print(f\"L1 = {l1} Type = {type(l1)}\")\n",
    "    \n",
    "    n_arr = np.array([11,22,33,44])\n",
    "    print(f\"N_ARR = {n_arr} Type = {type(n_arr)}\")\n",
    "    \n",
    "    s_series  = pd.Series([90,80,70,60,50])\n",
    "    print(f\"S_Series = {s_series} Type ={type(s_series)}\")\n",
    "    \n",
    "    "
   ]
  },
  {
   "cell_type": "code",
   "execution_count": 6,
   "id": "dbdcb3af",
   "metadata": {},
   "outputs": [
    {
     "name": "stdout",
     "output_type": "stream",
     "text": [
      "L1 = [10, 20, 30, 40, 50] Type = <class 'list'>\n",
      "N_ARR = [11 22 33 44] Type = <class 'numpy.ndarray'>\n",
      "S_Series = 0    90\n",
      "1    80\n",
      "2    70\n",
      "3    60\n",
      "4    50\n",
      "dtype: int64 Type =<class 'pandas.core.series.Series'>\n"
     ]
    }
   ],
   "source": [
    "function1()"
   ]
  },
  {
   "cell_type": "code",
   "execution_count": 13,
   "id": "e07e14ee",
   "metadata": {},
   "outputs": [],
   "source": [
    "def function2():\n",
    "    n_series = pd.Series([10,20,30,40,50,60])\n",
    "    print(f\"Number series = {n_series}\")\n",
    "    print(f\"Type = {type(n_series)}\")\n",
    "    print(f\"DTYPE = {n_series.dtype}\")\n",
    "    print(f\"Size = {n_series.size}\")\n",
    "    print(f\"NBYTES = {n_series.nbytes}\")\n",
    "    print(f\"Shape = {n_series.shape}\")"
   ]
  },
  {
   "cell_type": "code",
   "execution_count": 12,
   "id": "20249889",
   "metadata": {},
   "outputs": [
    {
     "name": "stdout",
     "output_type": "stream",
     "text": [
      "Number series = 0    10\n",
      "1    20\n",
      "2    30\n",
      "3    40\n",
      "4    50\n",
      "5    60\n",
      "dtype: int64\n",
      "Type = <class 'pandas.core.series.Series'>\n",
      "DTYPE = int64\n",
      "Size = 6\n",
      "NBYTES = 48\n",
      "Shape = (6,)\n"
     ]
    }
   ],
   "source": [
    "function2()"
   ]
  },
  {
   "cell_type": "code",
   "execution_count": 14,
   "id": "54a6caa0",
   "metadata": {},
   "outputs": [],
   "source": [
    "def function3():\n",
    "    n_series = pd.Series([10,20,30,40,50,60])\n",
    "    print(f\"Keys = {n_series.keys()}\")\n",
    "    print(f\"Values = {n_series.values}\")"
   ]
  },
  {
   "cell_type": "code",
   "execution_count": 15,
   "id": "5abc94ed",
   "metadata": {},
   "outputs": [
    {
     "name": "stdout",
     "output_type": "stream",
     "text": [
      "Keys = RangeIndex(start=0, stop=6, step=1)\n",
      "Values = [10 20 30 40 50 60]\n"
     ]
    }
   ],
   "source": [
    "function3()"
   ]
  },
  {
   "cell_type": "code",
   "execution_count": 20,
   "id": "afd77494",
   "metadata": {},
   "outputs": [],
   "source": [
    "def function4():\n",
    "    s1 = pd.Series([10,20,30,40,50,60])\n",
    "    print(s1)\n",
    "    print(f\"s1[2] = {s1[2]}\") # indexing\n",
    "    "
   ]
  },
  {
   "cell_type": "code",
   "execution_count": 21,
   "id": "f18a70bc",
   "metadata": {},
   "outputs": [
    {
     "name": "stdout",
     "output_type": "stream",
     "text": [
      "0    10\n",
      "1    20\n",
      "2    30\n",
      "3    40\n",
      "4    50\n",
      "5    60\n",
      "dtype: int64\n",
      "s1[2] = 30\n"
     ]
    }
   ],
   "source": [
    "function4()"
   ]
  },
  {
   "cell_type": "code",
   "execution_count": 26,
   "id": "c4f0b01a",
   "metadata": {},
   "outputs": [],
   "source": [
    "# creating pandas series using dictionary\n",
    "def function5():\n",
    "    s1 = pd.Series({\"Name\":\"Dr.Akshita\",\"org\":\"sunbeam\",\"course\":\"python\"})\n",
    "    print(s1)\n",
    "    print(f\"s1['Name'] = {s1['Name']}\")\n",
    "    print(f\"s1[0] = {s1[0]}\")\n",
    "    "
   ]
  },
  {
   "cell_type": "code",
   "execution_count": 27,
   "id": "a6b079bf",
   "metadata": {},
   "outputs": [
    {
     "name": "stdout",
     "output_type": "stream",
     "text": [
      "Name      Dr.Akshita\n",
      "org          sunbeam\n",
      "course        python\n",
      "dtype: object\n",
      "s1['Name'] = Dr.Akshita\n",
      "s1[0] = Dr.Akshita\n"
     ]
    }
   ],
   "source": [
    "function5()"
   ]
  },
  {
   "cell_type": "code",
   "execution_count": 28,
   "id": "831222cd",
   "metadata": {},
   "outputs": [],
   "source": [
    "def function5():\n",
    "    students = pd.Series([\"s1\",\"s2\",\"s3\",\"s4\"])\n",
    "    marks = pd.Series([25,21,22,24])\n",
    "    print(students)\n",
    "    print(marks)"
   ]
  },
  {
   "cell_type": "code",
   "execution_count": 29,
   "id": "6cc4cda3",
   "metadata": {},
   "outputs": [
    {
     "name": "stdout",
     "output_type": "stream",
     "text": [
      "0    s1\n",
      "1    s2\n",
      "2    s3\n",
      "3    s4\n",
      "dtype: object\n",
      "0    25\n",
      "1    21\n",
      "2    22\n",
      "3    24\n",
      "dtype: int64\n"
     ]
    }
   ],
   "source": [
    "function5()"
   ]
  },
  {
   "cell_type": "code",
   "execution_count": 30,
   "id": "ab28121a",
   "metadata": {},
   "outputs": [],
   "source": [
    "def function6():\n",
    "    marks = [25,21,22,24]\n",
    "    students = pd.Series([\"s1\",\"s2\",\"s3\",\"s4\"],index = marks)\n",
    "    print(students)\n",
    "    "
   ]
  },
  {
   "cell_type": "code",
   "execution_count": 31,
   "id": "83a612a9",
   "metadata": {},
   "outputs": [
    {
     "name": "stdout",
     "output_type": "stream",
     "text": [
      "25    s1\n",
      "21    s2\n",
      "22    s3\n",
      "24    s4\n",
      "dtype: object\n"
     ]
    }
   ],
   "source": [
    "function6()"
   ]
  },
  {
   "cell_type": "code",
   "execution_count": null,
   "id": "af7654c2",
   "metadata": {},
   "outputs": [],
   "source": []
  }
 ],
 "metadata": {
  "kernelspec": {
   "display_name": "Python 3 (ipykernel)",
   "language": "python",
   "name": "python3"
  },
  "language_info": {
   "codemirror_mode": {
    "name": "ipython",
    "version": 3
   },
   "file_extension": ".py",
   "mimetype": "text/x-python",
   "name": "python",
   "nbconvert_exporter": "python",
   "pygments_lexer": "ipython3",
   "version": "3.7.9"
  }
 },
 "nbformat": 4,
 "nbformat_minor": 5
}
