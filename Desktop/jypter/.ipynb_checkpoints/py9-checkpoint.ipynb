{
 "cells": [
  {
   "cell_type": "code",
   "execution_count": 1,
   "id": "85aee502-639a-4795-bf93-4e84291cbe24",
   "metadata": {},
   "outputs": [
    {
     "name": "stdout",
     "output_type": "stream",
     "text": [
      "[35 35 45 44 45 47 36 48 34 43]\n"
     ]
    }
   ],
   "source": [
    "import numpy as np\n",
    "n4 = np.random.randint(30,50,10)# any four random numbers from 1 to 10\n",
    "print(n4)"
   ]
  },
  {
   "cell_type": "code",
   "execution_count": null,
   "id": "b86d6f98-436c-4a06-b0c9-b2f7902d984a",
   "metadata": {},
   "outputs": [],
   "source": []
  }
 ],
 "metadata": {
  "kernelspec": {
   "display_name": "Python 3 (ipykernel)",
   "language": "python",
   "name": "python3"
  },
  "language_info": {
   "codemirror_mode": {
    "name": "ipython",
    "version": 3
   },
   "file_extension": ".py",
   "mimetype": "text/x-python",
   "name": "python",
   "nbconvert_exporter": "python",
   "pygments_lexer": "ipython3",
   "version": "3.10.12"
  }
 },
 "nbformat": 4,
 "nbformat_minor": 5
}
