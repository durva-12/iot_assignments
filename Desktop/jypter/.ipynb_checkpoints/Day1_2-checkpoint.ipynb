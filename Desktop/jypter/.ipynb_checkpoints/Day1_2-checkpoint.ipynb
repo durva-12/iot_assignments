{
 "cells": [
  {
   "cell_type": "code",
   "execution_count": 30,
   "id": "6369db61",
   "metadata": {},
   "outputs": [],
   "source": [
    "# numpy array creation example, array() and print the properties"
   ]
  },
  {
   "cell_type": "code",
   "execution_count": 16,
   "id": "3a8220be",
   "metadata": {},
   "outputs": [],
   "source": [
    "import numpy as np"
   ]
  },
  {
   "cell_type": "code",
   "execution_count": 17,
   "id": "c030e9d7",
   "metadata": {},
   "outputs": [],
   "source": [
    "def function1():\n",
    "    l1 = [10,20,30,40,50]\n",
    "    print(l1)\n",
    "    print(f\"Type = {type(l1)}\")\n",
    "    print(f\"l1[0] Type = {type(l1[0])}\")\n"
   ]
  },
  {
   "cell_type": "code",
   "execution_count": 18,
   "id": "f1a90f8b",
   "metadata": {},
   "outputs": [
    {
     "name": "stdout",
     "output_type": "stream",
     "text": [
      "[10, 20, 30, 40, 50]\n",
      "Type = <class 'list'>\n",
      "l1[0] Type = <class 'int'>\n"
     ]
    }
   ],
   "source": [
    "function1()"
   ]
  },
  {
   "cell_type": "code",
   "execution_count": 19,
   "id": "a8773889",
   "metadata": {},
   "outputs": [],
   "source": [
    "def function2():\n",
    "    n_arr = np.array([11,22,33,44,55])\n",
    "    print(n_arr)\n",
    "    print(f\"Type = {type(n_arr)}\")\n",
    "    "
   ]
  },
  {
   "cell_type": "code",
   "execution_count": 20,
   "id": "486d0415",
   "metadata": {},
   "outputs": [
    {
     "name": "stdout",
     "output_type": "stream",
     "text": [
      "[11 22 33 44 55]\n",
      "Type = <class 'numpy.ndarray'>\n"
     ]
    }
   ],
   "source": [
    "function2()"
   ]
  },
  {
   "cell_type": "code",
   "execution_count": 21,
   "id": "c782decc",
   "metadata": {},
   "outputs": [],
   "source": [
    "def function3():\n",
    "    arr = np.array([10,20,30,40,50,60])\n",
    "    print(arr)\n",
    "    print(f\"Type = {type(arr)}\")\n",
    "    print(f\"Dtype = {arr.dtype}\")\n",
    "    print(f\"Item Size = {arr.itemsize}\")\n",
    "    print(f\"Size = {arr.size}\")\n",
    "    print(f\"NDIM = {arr.ndim}\")\n",
    "    print(f\"NBYTES = {arr.nbytes}\")\n",
    "    "
   ]
  },
  {
   "cell_type": "code",
   "execution_count": 22,
   "id": "14e43c30",
   "metadata": {},
   "outputs": [
    {
     "name": "stdout",
     "output_type": "stream",
     "text": [
      "[10 20 30 40 50 60]\n",
      "Type = <class 'numpy.ndarray'>\n",
      "Dtype = int32\n",
      "Item Size = 4\n",
      "Size = 6\n",
      "NDIM = 1\n",
      "NBYTES = 24\n"
     ]
    }
   ],
   "source": [
    "function3()"
   ]
  },
  {
   "cell_type": "code",
   "execution_count": 23,
   "id": "85f17bbf",
   "metadata": {},
   "outputs": [],
   "source": [
    "def printProperties(arr):\n",
    "    print(arr)\n",
    "    print(f\"Type = {type(arr)}\")\n",
    "    print(f\"Dtype = {arr.dtype}\")\n",
    "    print(f\"Item Size = {arr.itemsize}\")\n",
    "    print(f\"Size = {arr.size}\")\n",
    "    print(f\"NDIM = {arr.ndim}\")\n",
    "    print(f\"NBYTES = {arr.nbytes}\")"
   ]
  },
  {
   "cell_type": "code",
   "execution_count": 24,
   "id": "ea95fb31",
   "metadata": {},
   "outputs": [
    {
     "name": "stdout",
     "output_type": "stream",
     "text": [
      "[9 8 7 6 5 4 3]\n",
      "Type = <class 'numpy.ndarray'>\n",
      "Dtype = int32\n",
      "Item Size = 4\n",
      "Size = 7\n",
      "NDIM = 1\n",
      "NBYTES = 28\n"
     ]
    }
   ],
   "source": [
    "n1 = np.array([9,8,7,6,5,4,3])\n",
    "printProperties(n1)"
   ]
  },
  {
   "cell_type": "code",
   "execution_count": 25,
   "id": "cb8fc53f",
   "metadata": {},
   "outputs": [
    {
     "name": "stdout",
     "output_type": "stream",
     "text": [
      "[11 22 33]\n",
      "Type = <class 'numpy.ndarray'>\n",
      "Dtype = int16\n",
      "Item Size = 2\n",
      "Size = 3\n",
      "NDIM = 1\n",
      "NBYTES = 6\n"
     ]
    }
   ],
   "source": [
    "n2 = np.array([11,22,33],dtype=np.int16)\n",
    "printProperties(n2)"
   ]
  },
  {
   "cell_type": "code",
   "execution_count": 26,
   "id": "efd4d0e2",
   "metadata": {},
   "outputs": [
    {
     "name": "stdout",
     "output_type": "stream",
     "text": [
      "[11 22 33 44]\n",
      "Type = <class 'numpy.ndarray'>\n",
      "Dtype = int64\n",
      "Item Size = 8\n",
      "Size = 4\n",
      "NDIM = 1\n",
      "NBYTES = 32\n"
     ]
    }
   ],
   "source": [
    "n3 = np.array([11,22,33,44],dtype=np.int64)\n",
    "printProperties(n3)"
   ]
  },
  {
   "cell_type": "code",
   "execution_count": 27,
   "id": "5860b4ca",
   "metadata": {},
   "outputs": [
    {
     "name": "stdout",
     "output_type": "stream",
     "text": [
      "[ 1.15 12.2   3.8 ]\n",
      "Type = <class 'numpy.ndarray'>\n",
      "Dtype = float64\n",
      "Item Size = 8\n",
      "Size = 3\n",
      "NDIM = 1\n",
      "NBYTES = 24\n"
     ]
    }
   ],
   "source": [
    "n4 = np.array([1.15,12.2,3.8])\n",
    "printProperties(n4)"
   ]
  },
  {
   "cell_type": "code",
   "execution_count": 28,
   "id": "28112625",
   "metadata": {},
   "outputs": [
    {
     "name": "stdout",
     "output_type": "stream",
     "text": [
      "[ 1.15 12.2   3.8 ]\n",
      "Type = <class 'numpy.ndarray'>\n",
      "Dtype = float16\n",
      "Item Size = 2\n",
      "Size = 3\n",
      "NDIM = 1\n",
      "NBYTES = 6\n"
     ]
    }
   ],
   "source": [
    "n4 = np.array([1.15,12.2,3.8],dtype=np.float16)\n",
    "printProperties(n4)"
   ]
  },
  {
   "cell_type": "code",
   "execution_count": 29,
   "id": "1b1a270b",
   "metadata": {},
   "outputs": [
    {
     "name": "stdout",
     "output_type": "stream",
     "text": [
      "['C' 'C++' 'Python' 'Java']\n",
      "Type = <class 'numpy.ndarray'>\n",
      "Dtype = <U6\n",
      "Item Size = 24\n",
      "Size = 4\n",
      "NDIM = 1\n",
      "NBYTES = 96\n"
     ]
    }
   ],
   "source": [
    "n5 = np.array([\"C\",\"C++\",\"Python\",\"Java\"])\n",
    "printProperties(n5)"
   ]
  },
  {
   "cell_type": "code",
   "execution_count": null,
   "id": "7872d87c",
   "metadata": {},
   "outputs": [],
   "source": []
  }
 ],
 "metadata": {
  "kernelspec": {
   "display_name": "Python 3 (ipykernel)",
   "language": "python",
   "name": "python3"
  },
  "language_info": {
   "codemirror_mode": {
    "name": "ipython",
    "version": 3
   },
   "file_extension": ".py",
   "mimetype": "text/x-python",
   "name": "python",
   "nbconvert_exporter": "python",
   "pygments_lexer": "ipython3",
   "version": "3.7.9"
  }
 },
 "nbformat": 4,
 "nbformat_minor": 5
}
