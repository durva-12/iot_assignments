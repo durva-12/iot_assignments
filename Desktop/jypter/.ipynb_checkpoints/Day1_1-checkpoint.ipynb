{
 "cells": [
  {
   "cell_type": "markdown",
   "id": "28ce7bec",
   "metadata": {},
   "source": [
    "# First Program"
   ]
  },
  {
   "cell_type": "code",
   "execution_count": 2,
   "id": "36bc6435",
   "metadata": {},
   "outputs": [],
   "source": [
    "num = 50"
   ]
  },
  {
   "cell_type": "code",
   "execution_count": 3,
   "id": "3c7ec39a",
   "metadata": {},
   "outputs": [
    {
     "name": "stdout",
     "output_type": "stream",
     "text": [
      "50\n"
     ]
    }
   ],
   "source": [
    "print(num)"
   ]
  },
  {
   "cell_type": "code",
   "execution_count": 4,
   "id": "8bb1428e",
   "metadata": {},
   "outputs": [
    {
     "name": "stdout",
     "output_type": "stream",
     "text": [
      "7\n"
     ]
    }
   ],
   "source": [
    "a=5\n",
    "b=2\n",
    "print(a+b)"
   ]
  },
  {
   "cell_type": "code",
   "execution_count": 5,
   "id": "76291372",
   "metadata": {},
   "outputs": [
    {
     "name": "stdout",
     "output_type": "stream",
     "text": [
      "Hello everyone!!\n"
     ]
    }
   ],
   "source": [
    "print(\"Hello everyone!!\")"
   ]
  },
  {
   "cell_type": "code",
   "execution_count": null,
   "id": "f9feb840",
   "metadata": {},
   "outputs": [],
   "source": []
  }
 ],
 "metadata": {
  "kernelspec": {
   "display_name": "Python 3 (ipykernel)",
   "language": "python",
   "name": "python3"
  },
  "language_info": {
   "codemirror_mode": {
    "name": "ipython",
    "version": 3
   },
   "file_extension": ".py",
   "mimetype": "text/x-python",
   "name": "python",
   "nbconvert_exporter": "python",
   "pygments_lexer": "ipython3",
   "version": "3.7.9"
  }
 },
 "nbformat": 4,
 "nbformat_minor": 5
}
