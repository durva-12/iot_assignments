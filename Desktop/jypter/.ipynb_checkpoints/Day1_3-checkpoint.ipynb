{
 "cells": [
  {
   "cell_type": "code",
   "execution_count": 14,
   "id": "7b3a905d",
   "metadata": {},
   "outputs": [],
   "source": [
    "# indexing, slicing and reshaping"
   ]
  },
  {
   "cell_type": "code",
   "execution_count": 1,
   "id": "50fdb347",
   "metadata": {},
   "outputs": [],
   "source": [
    "import numpy as np"
   ]
  },
  {
   "cell_type": "code",
   "execution_count": 2,
   "id": "b40df59b",
   "metadata": {},
   "outputs": [],
   "source": [
    "n1 = np.array([11,22,33,44,55,66,77,88])\n"
   ]
  },
  {
   "cell_type": "code",
   "execution_count": 3,
   "id": "4558538f",
   "metadata": {},
   "outputs": [
    {
     "name": "stdout",
     "output_type": "stream",
     "text": [
      "[11 22 33 44 55 66 77 88]\n"
     ]
    }
   ],
   "source": [
    "print(n1)"
   ]
  },
  {
   "cell_type": "code",
   "execution_count": 4,
   "id": "e85a36ad",
   "metadata": {},
   "outputs": [
    {
     "name": "stdout",
     "output_type": "stream",
     "text": [
      "33\n"
     ]
    }
   ],
   "source": [
    "print(n1[2])   # positive indexing"
   ]
  },
  {
   "cell_type": "code",
   "execution_count": 5,
   "id": "bfe3155f",
   "metadata": {},
   "outputs": [
    {
     "name": "stdout",
     "output_type": "stream",
     "text": [
      "8\n"
     ]
    }
   ],
   "source": [
    "print(len(n1))"
   ]
  },
  {
   "cell_type": "code",
   "execution_count": 6,
   "id": "b584e830",
   "metadata": {},
   "outputs": [
    {
     "name": "stdout",
     "output_type": "stream",
     "text": [
      "11\n"
     ]
    }
   ],
   "source": [
    "print(n1[0]) # positive indexing"
   ]
  },
  {
   "cell_type": "code",
   "execution_count": 8,
   "id": "fe31dc72",
   "metadata": {},
   "outputs": [
    {
     "name": "stdout",
     "output_type": "stream",
     "text": [
      "88\n"
     ]
    }
   ],
   "source": [
    "print(n1[7]) # positive indexing"
   ]
  },
  {
   "cell_type": "code",
   "execution_count": 9,
   "id": "ffd46ba1",
   "metadata": {},
   "outputs": [
    {
     "name": "stdout",
     "output_type": "stream",
     "text": [
      "88\n"
     ]
    }
   ],
   "source": [
    "print(n1[-1]) # negative indexing"
   ]
  },
  {
   "cell_type": "code",
   "execution_count": 10,
   "id": "6e19de91",
   "metadata": {},
   "outputs": [
    {
     "name": "stdout",
     "output_type": "stream",
     "text": [
      "[33 44 55]\n"
     ]
    }
   ],
   "source": [
    "print(n1[2:5])  # Slicing  example"
   ]
  },
  {
   "cell_type": "code",
   "execution_count": 11,
   "id": "6cf8298d",
   "metadata": {},
   "outputs": [
    {
     "name": "stdout",
     "output_type": "stream",
     "text": [
      "NDIM = 1\n"
     ]
    }
   ],
   "source": [
    "print(f\"NDIM = {n1.ndim}\")"
   ]
  },
  {
   "cell_type": "code",
   "execution_count": 12,
   "id": "264378ba",
   "metadata": {},
   "outputs": [
    {
     "name": "stdout",
     "output_type": "stream",
     "text": [
      "Shape = (8,)\n"
     ]
    }
   ],
   "source": [
    "print(f\"Shape = {n1.shape}\")"
   ]
  },
  {
   "cell_type": "code",
   "execution_count": 13,
   "id": "ac030198",
   "metadata": {},
   "outputs": [
    {
     "name": "stdout",
     "output_type": "stream",
     "text": [
      "[[11 22]\n",
      " [33 44]\n",
      " [55 66]\n",
      " [77 88]]\n",
      "NDIM: 2\n",
      "Shape = (4, 2)\n"
     ]
    }
   ],
   "source": [
    "n1 = n1.reshape([4,2])\n",
    "print(n1)\n",
    "print(f\"NDIM: {n1.ndim}\")\n",
    "print(f\"Shape = {n1.shape}\")"
   ]
  },
  {
   "cell_type": "code",
   "execution_count": null,
   "id": "eec1e8c1",
   "metadata": {},
   "outputs": [],
   "source": []
  }
 ],
 "metadata": {
  "kernelspec": {
   "display_name": "Python 3 (ipykernel)",
   "language": "python",
   "name": "python3"
  },
  "language_info": {
   "codemirror_mode": {
    "name": "ipython",
    "version": 3
   },
   "file_extension": ".py",
   "mimetype": "text/x-python",
   "name": "python",
   "nbconvert_exporter": "python",
   "pygments_lexer": "ipython3",
   "version": "3.7.9"
  }
 },
 "nbformat": 4,
 "nbformat_minor": 5
}
