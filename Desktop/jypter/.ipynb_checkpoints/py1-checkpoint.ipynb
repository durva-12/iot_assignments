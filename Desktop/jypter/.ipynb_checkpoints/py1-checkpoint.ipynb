{
 "cells": [
  {
   "cell_type": "code",
   "execution_count": 20,
   "id": "932c3260-fe05-45d9-9f01-7f2599b958c1",
   "metadata": {},
   "outputs": [],
   "source": [
    "import numpy as np\n"
   ]
  },
  {
   "cell_type": "code",
   "execution_count": 21,
   "id": "7ee7e3a1-63e5-402b-8566-82c3753b03e4",
   "metadata": {},
   "outputs": [],
   "source": [
    "def function3():\n",
    "    arr = np.array([1,7,13,105])\n",
    "    print(arr)\n",
    "    print(f\"the size of memory occupied by arry = {arr.nbytes}\")\n",
    "    \n",
    "    \n",
    "   \n",
    "    "
   ]
  },
  {
   "cell_type": "code",
   "execution_count": 22,
   "id": "3d866e2a-0466-41d0-ba29-680204871c61",
   "metadata": {},
   "outputs": [
    {
     "name": "stdout",
     "output_type": "stream",
     "text": [
      "[  1   7  13 105]\n",
      "the size of memory occupied by arry = 32\n"
     ]
    }
   ],
   "source": [
    "function3()"
   ]
  },
  {
   "cell_type": "code",
   "execution_count": null,
   "id": "7607eff9-d7e8-450f-94b7-b41dc5a6425d",
   "metadata": {},
   "outputs": [],
   "source": []
  },
  {
   "cell_type": "code",
   "execution_count": null,
   "id": "67f805f7-fd7b-4a6f-9f61-f5a9415a5a2a",
   "metadata": {},
   "outputs": [],
   "source": []
  }
 ],
 "metadata": {
  "kernelspec": {
   "display_name": "Python 3 (ipykernel)",
   "language": "python",
   "name": "python3"
  },
  "language_info": {
   "codemirror_mode": {
    "name": "ipython",
    "version": 3
   },
   "file_extension": ".py",
   "mimetype": "text/x-python",
   "name": "python",
   "nbconvert_exporter": "python",
   "pygments_lexer": "ipython3",
   "version": "3.10.12"
  }
 },
 "nbformat": 4,
 "nbformat_minor": 5
}
