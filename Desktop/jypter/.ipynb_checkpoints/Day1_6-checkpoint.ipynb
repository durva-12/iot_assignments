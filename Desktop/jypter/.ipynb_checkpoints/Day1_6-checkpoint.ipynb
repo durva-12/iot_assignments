{
 "cells": [
  {
   "cell_type": "code",
   "execution_count": 1,
   "id": "64a534b7",
   "metadata": {},
   "outputs": [],
   "source": [
    "import pandas as pd"
   ]
  },
  {
   "cell_type": "code",
   "execution_count": 4,
   "id": "bf6f84f3",
   "metadata": {},
   "outputs": [],
   "source": [
    "def function1():\n",
    "    p1 = ({\"name\":\"P1\",\"age\":25,\"id\":1234})\n",
    "    p2 = ({\"name\":\"P2\",\"age\":35,\"id\":456})\n",
    "    p3 = ({\"name\":\"P3\",\"age\":20,\"id\":789})\n",
    "    \n",
    "    s1 = pd.Series(p1)\n",
    "    s2 = pd.Series(p2)\n",
    "    s3 = pd.Series(p3)\n",
    "    \n",
    "    df = pd.DataFrame([s1,s2,s3])\n",
    "\n",
    "    print(s1)\n",
    "    print(s2)\n",
    "    print(s3)\n",
    "    print(df)\n",
    "    "
   ]
  },
  {
   "cell_type": "code",
   "execution_count": 5,
   "id": "8eade59f",
   "metadata": {},
   "outputs": [
    {
     "name": "stdout",
     "output_type": "stream",
     "text": [
      "name      P1\n",
      "age       25\n",
      "id      1234\n",
      "dtype: object\n",
      "name     P2\n",
      "age      35\n",
      "id      456\n",
      "dtype: object\n",
      "name     P3\n",
      "age      20\n",
      "id      789\n",
      "dtype: object\n",
      "  name  age    id\n",
      "0   P1   25  1234\n",
      "1   P2   35   456\n",
      "2   P3   20   789\n"
     ]
    }
   ],
   "source": [
    "function1()"
   ]
  },
  {
   "cell_type": "code",
   "execution_count": 6,
   "id": "37a8316f",
   "metadata": {},
   "outputs": [],
   "source": [
    "def function2():\n",
    "    p1 = ({\"name\":\"P1\",\"age\":25,\"id\":1234})\n",
    "    p2 = ({\"name\":\"P2\",\"age\":35,\"id\":456})\n",
    "    p3 = ({\"name\":\"P3\",\"age\":20,\"marks\":85})\n",
    "    \n",
    "    s1 = pd.Series(p1)\n",
    "    s2 = pd.Series(p2)\n",
    "    s3 = pd.Series(p3)\n",
    "    \n",
    "    df = pd.DataFrame([s1,s2,s3])\n",
    "    \n",
    "    print(df)\n",
    "    "
   ]
  },
  {
   "cell_type": "code",
   "execution_count": 7,
   "id": "6ceb170f",
   "metadata": {},
   "outputs": [
    {
     "name": "stdout",
     "output_type": "stream",
     "text": [
      "  name  age      id\n",
      "0   P1   25  1234.0\n",
      "1   P2   35   456.0\n",
      "2   P3   20     NaN\n"
     ]
    }
   ],
   "source": [
    "function2()"
   ]
  },
  {
   "cell_type": "code",
   "execution_count": null,
   "id": "16d3daca",
   "metadata": {},
   "outputs": [],
   "source": []
  }
 ],
 "metadata": {
  "kernelspec": {
   "display_name": "Python 3 (ipykernel)",
   "language": "python",
   "name": "python3"
  },
  "language_info": {
   "codemirror_mode": {
    "name": "ipython",
    "version": 3
   },
   "file_extension": ".py",
   "mimetype": "text/x-python",
   "name": "python",
   "nbconvert_exporter": "python",
   "pygments_lexer": "ipython3",
   "version": "3.7.9"
  }
 },
 "nbformat": 4,
 "nbformat_minor": 5
}
