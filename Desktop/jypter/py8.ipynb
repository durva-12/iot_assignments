{
 "cells": [
  {
   "cell_type": "code",
   "execution_count": 3,
   "id": "0da3293a-5a34-4fe1-82a4-0ba09818e93e",
   "metadata": {},
   "outputs": [
    {
     "name": "stdout",
     "output_type": "stream",
     "text": [
      "[39 13 28 21 25 32 32 36 35 30 12 12 23 37 32]\n"
     ]
    }
   ],
   "source": [
    "import numpy as np\n",
    "n4 = np.random.randint(10,40,15) # any four random numbers from 1 to 10\n",
    "print(n4)"
   ]
  },
  {
   "cell_type": "code",
   "execution_count": null,
   "id": "66688d64-a138-400c-a0ef-fa85deae79ba",
   "metadata": {},
   "outputs": [],
   "source": []
  }
 ],
 "metadata": {
  "kernelspec": {
   "display_name": "Python 3 (ipykernel)",
   "language": "python",
   "name": "python3"
  },
  "language_info": {
   "codemirror_mode": {
    "name": "ipython",
    "version": 3
   },
   "file_extension": ".py",
   "mimetype": "text/x-python",
   "name": "python",
   "nbconvert_exporter": "python",
   "pygments_lexer": "ipython3",
   "version": "3.10.12"
  }
 },
 "nbformat": 4,
 "nbformat_minor": 5
}
