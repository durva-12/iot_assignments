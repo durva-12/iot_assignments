{
 "cells": [
  {
   "cell_type": "code",
   "execution_count": 2,
   "id": "9a5d6155-8f94-4380-8232-b5ba2a56bf2e",
   "metadata": {},
   "outputs": [
    {
     "name": "stdout",
     "output_type": "stream",
     "text": [
      "[19 21 23 25 27 29 31 33 35 37 39 41 43 45 47 49 51 53 55 57 59 61 63 65\n",
      " 67 69 71 73 75 77 79]\n"
     ]
    }
   ],
   "source": [
    "import numpy as np\n",
    "arr2 = np.arange(19,81,2)\n",
    "print(arr2)"
   ]
  },
  {
   "cell_type": "code",
   "execution_count": null,
   "id": "68df7eb9-760b-42d5-8387-7ed193c04a58",
   "metadata": {},
   "outputs": [],
   "source": []
  }
 ],
 "metadata": {
  "kernelspec": {
   "display_name": "Python 3 (ipykernel)",
   "language": "python",
   "name": "python3"
  },
  "language_info": {
   "codemirror_mode": {
    "name": "ipython",
    "version": 3
   },
   "file_extension": ".py",
   "mimetype": "text/x-python",
   "name": "python",
   "nbconvert_exporter": "python",
   "pygments_lexer": "ipython3",
   "version": "3.10.12"
  }
 },
 "nbformat": 4,
 "nbformat_minor": 5
}
