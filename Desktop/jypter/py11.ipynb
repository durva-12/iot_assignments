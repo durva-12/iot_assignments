{
 "cells": [
  {
   "cell_type": "code",
   "execution_count": 2,
   "id": "d521bf5b-070a-40e1-b667-91babe7a74b2",
   "metadata": {},
   "outputs": [
    {
     "name": "stdout",
     "output_type": "stream",
     "text": [
      "N1 = [11 22 33 44]\n",
      "N2 = [10 20 30 40]\n",
      "[21 42 63 84]\n",
      "[1 2 3 4]\n",
      "[ 110  440  990 1760]\n",
      "[1.1 1.1 1.1 1.1]\n"
     ]
    }
   ],
   "source": [
    "import numpy as np\n",
    "n1 = np.array([11,22,33,44])\n",
    "n2 = np.array([10,20,30,40])\n",
    "print(f\"N1 = {n1}\")\n",
    "print(f\"N2 = {n2}\")\n",
    "print(n1+n2)\n",
    "print(n1-n2)\n",
    "print(n1*n2)\n",
    "print(n1/n2)"
   ]
  },
  {
   "cell_type": "code",
   "execution_count": null,
   "id": "2e30e7d0-2d05-42f7-8ea5-579089fd152f",
   "metadata": {},
   "outputs": [],
   "source": []
  }
 ],
 "metadata": {
  "kernelspec": {
   "display_name": "Python 3 (ipykernel)",
   "language": "python",
   "name": "python3"
  },
  "language_info": {
   "codemirror_mode": {
    "name": "ipython",
    "version": 3
   },
   "file_extension": ".py",
   "mimetype": "text/x-python",
   "name": "python",
   "nbconvert_exporter": "python",
   "pygments_lexer": "ipython3",
   "version": "3.10.12"
  }
 },
 "nbformat": 4,
 "nbformat_minor": 5
}
